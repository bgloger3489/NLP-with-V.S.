{
 "cells": [
  {
   "cell_type": "markdown",
   "metadata": {},
   "source": [
    "### Read Astrailian News Titles:"
   ]
  },
  {
   "cell_type": "code",
   "execution_count": 34,
   "metadata": {},
   "outputs": [],
   "source": [
    "import numpy as np\n",
    "import spacy\n",
    "import os.path\n",
    "import os\n",
    "path = os.path.join(os.getcwd(), \"/Users/Ben/Downloads/abcnews-date-text.csv\")\n",
    "\n",
    "#Extract titles\n",
    "data = open(path,\"r\").read()\n",
    "lines = data.split(\"\\n\")\n",
    "titles = []\n",
    "record = 0\n",
    "for i,line in enumerate(lines):\n",
    "    if(i > 0 and i < 10000):\n",
    "        title = line.split(\",\")[1]\n",
    "        titles.append(title)"
   ]
  },
  {
   "cell_type": "markdown",
   "metadata": {},
   "source": [
    "# 1) Vectorize:"
   ]
  },
  {
   "cell_type": "code",
   "execution_count": 35,
   "metadata": {},
   "outputs": [],
   "source": [
    "nlp = spacy.load('en_core_web_lg')\n",
    "\n",
    "def vectorize(weighted=False):\n",
    "    #add multiprocessing?\n",
    "    freq_dict = {}\n",
    "\n",
    "    \n",
    "    docs = nlp.pipe(titles)\n",
    "\n",
    "    vectors = []\n",
    "    doc_tokens = []\n",
    "    num_words = 0\n",
    "    for doc in docs:\n",
    "        \n",
    "        #vectorization\n",
    "        if(weighted):\n",
    "            doc_tokens.append([token for token in doc]) #split into tokens for later weighted avging\n",
    "            \n",
    "            #making freq_dict\n",
    "            for token in doc:\n",
    "                if token.text in freq_dict:\n",
    "                    freq_dict[token.text] += 1\n",
    "                else:\n",
    "                    freq_dict[token.text] = 1\n",
    "                num_words += 1\n",
    "        else:\n",
    "            vectors.append(doc.vector)\n",
    "    \n",
    "    \n",
    "    #calc freqs for freq_dict\n",
    "    if weighted:\n",
    "        for line_of_tokens in doc_tokens:\n",
    "            line_of_token_vectors = np.asarray([token.vector for token in line_of_tokens])\n",
    "            weights = [num_words/freq_dict[token.text] for token in line_of_tokens]\n",
    "            vector = np.average(line_of_token_vectors,weights=weights,axis=0)\n",
    "            vectors.append(vector)\n",
    "        \n",
    "    return vectors"
   ]
  },
  {
   "cell_type": "code",
   "execution_count": 36,
   "metadata": {},
   "outputs": [
    {
     "data": {
      "text/plain": [
       "9999"
      ]
     },
     "execution_count": 36,
     "metadata": {},
     "output_type": "execute_result"
    }
   ],
   "source": [
    "from scipy.spatial import KDTree\n",
    "\n",
    "vectors = vectorize(False) #True for weighted!\n",
    "len(vectors)"
   ]
  },
  {
   "cell_type": "markdown",
   "metadata": {},
   "source": [
    "### Nearest Neighbors:"
   ]
  },
  {
   "cell_type": "code",
   "execution_count": 37,
   "metadata": {},
   "outputs": [],
   "source": [
    "tree = KDTree(vectors)\n",
    "\n",
    "def findKNN(text,k=10):\n",
    "    dists, idxs = tree.query(nlp(text).vector,k=k)\n",
    "    for i in range(k):\n",
    "        print(titles[idxs[i]], \": \", dists[i])"
   ]
  },
  {
   "cell_type": "code",
   "execution_count": 38,
   "metadata": {},
   "outputs": [
    {
     "name": "stdout",
     "output_type": "stream",
     "text": [
      "monster surf sweeps woman to death :  0.0\n",
      "woman in hospital after surf ordeal :  2.2981802417131862\n",
      "ten man river crash to emelec in trouble hit match :  2.3359068801557115\n",
      "man to face court over fatal hit and run :  2.3728053342866002\n",
      "savage gets death threats after dublin head butt :  2.3834656867599664\n",
      "boy almost drowns after being swept down storm :  2.4047534797247496\n",
      "gold coast boy continue to fight for life after :  2.412719550544082\n",
      "man bleeds to death after shop burglary :  2.4320065142644673\n",
      "serena overcomes slow start to swamp birthday girl :  2.461841138813617\n",
      "virus death toll rises as world waits on news from :  2.466015810628854\n"
     ]
    }
   ],
   "source": [
    "findKNN(\"monster surf sweeps woman to death\")"
   ]
  },
  {
   "cell_type": "markdown",
   "metadata": {},
   "source": [
    "# 2) Find Clusters using Unsupervised Learning:"
   ]
  },
  {
   "cell_type": "code",
   "execution_count": 39,
   "metadata": {},
   "outputs": [],
   "source": [
    "from sklearn.cluster import KMeans, AgglomerativeClustering\n",
    "classifier = AgglomerativeClustering(n_clusters=5).fit(vectors) #KMeans().fit(vectors) #which clustering_model"
   ]
  },
  {
   "cell_type": "markdown",
   "metadata": {},
   "source": [
    "# 3) Save Model for TSNE in Embedding Projector:"
   ]
  },
  {
   "cell_type": "code",
   "execution_count": 40,
   "metadata": {},
   "outputs": [],
   "source": [
    "def save_vectors(vectors):\n",
    "    with open(os.path.join(os.getcwd(), \"/Users/Ben/Desktop/Vital Strategies/nlpVectors/nlp_tensors_unweighted.tsv\"), \"w\") as f:\n",
    "        for vector in vectors:\n",
    "            for feature in vector:\n",
    "                f.write(str(feature))\n",
    "                f.write(\"\\t\")\n",
    "            f.write(\"\\n\")\n",
    "            \n",
    "    f.close()\n",
    "def save_metadata(titles):\n",
    "    with open(os.path.join(os.getcwd(), \"/Users/Ben/Desktop/Vital Strategies/nlpVectors/nlp_metadata_unweighted.tsv\"), \"w\") as f:\n",
    "        f.write(\"title\\tcategory\\n\")\n",
    "        for i, title in enumerate(titles):\n",
    "            f.write(title)\n",
    "            f.write(\"\\t\")\n",
    "            f.write(str(classifier.labels_[i]))#.predict([vectors[i]])[0]))\n",
    "            f.write(\"\\n\")\n",
    "    f.close()"
   ]
  },
  {
   "cell_type": "code",
   "execution_count": 41,
   "metadata": {},
   "outputs": [],
   "source": [
    "save_vectors(vectors)\n",
    "save_metadata(titles)\n",
    "\n",
    "#https://projector.tensorflow.org/"
   ]
  },
  {
   "cell_type": "markdown",
   "metadata": {},
   "source": [
    "# 4) Train a Classifier for Clusters:"
   ]
  },
  {
   "cell_type": "code",
   "execution_count": 42,
   "metadata": {},
   "outputs": [],
   "source": [
    "import tensorflow as tf\n",
    "from tensorflow.keras import layers\n",
    "from tensorflow import train"
   ]
  },
  {
   "cell_type": "code",
   "execution_count": 43,
   "metadata": {},
   "outputs": [
    {
     "name": "stdout",
     "output_type": "stream",
     "text": [
      "Epoch 1/8\n",
      "7999/7999 [==============================] - 1s 111us/sample - loss: 0.6233 - acc: 0.7652\n",
      "Epoch 2/8\n",
      "7999/7999 [==============================] - 1s 92us/sample - loss: 0.4537 - acc: 0.8261\n",
      "Epoch 3/8\n",
      "7999/7999 [==============================] - 1s 93us/sample - loss: 0.3642 - acc: 0.8596\n",
      "Epoch 4/8\n",
      "7999/7999 [==============================] - 1s 92us/sample - loss: 0.2750 - acc: 0.8995\n",
      "Epoch 5/8\n",
      "7999/7999 [==============================] - 1s 93us/sample - loss: 0.1922 - acc: 0.9311\n",
      "Epoch 6/8\n",
      "7999/7999 [==============================] - 1s 92us/sample - loss: 0.1229 - acc: 0.9631\n",
      "Epoch 7/8\n",
      "7999/7999 [==============================] - 1s 91us/sample - loss: 0.0719 - acc: 0.9792\n",
      "Epoch 8/8\n",
      "7999/7999 [==============================] - 1s 92us/sample - loss: 0.0365 - acc: 0.9931\n"
     ]
    },
    {
     "data": {
      "text/plain": [
       "<tensorflow.python.keras.callbacks.History at 0x6a0e83630>"
      ]
     },
     "execution_count": 43,
     "metadata": {},
     "output_type": "execute_result"
    }
   ],
   "source": [
    "model = tf.keras.Sequential([\n",
    "    layers.Dense(500, activation='relu', input_shape=(300,)),\n",
    "    layers.Dense(50, activation='relu'),\n",
    "    layers.Dense(5, activation='softmax')])\n",
    "\n",
    "model.compile(optimizer=train.AdamOptimizer(.001), loss='categorical_crossentropy', metrics=['accuracy'])\n",
    "\n",
    "#get onehot encoding:\n",
    "from keras.utils import to_categorical\n",
    "npvectors = np.asarray(vectors)\n",
    "onehot = to_categorical(classifier.labels_)\n",
    "\n",
    "model.fit(npvectors[:-2000],onehot[:-2000],epochs=8,batch_size=30) #leave 200 for testing"
   ]
  },
  {
   "cell_type": "markdown",
   "metadata": {},
   "source": [
    "### Evaluate Classifier:"
   ]
  },
  {
   "cell_type": "code",
   "execution_count": 44,
   "metadata": {},
   "outputs": [
    {
     "name": "stdout",
     "output_type": "stream",
     "text": [
      "200/200 [==============================] - 0s 353us/sample - loss: 0.5938 - acc: 0.8450\n"
     ]
    },
    {
     "data": {
      "text/plain": [
       "[0.5938290446996689, 0.845]"
      ]
     },
     "execution_count": 44,
     "metadata": {},
     "output_type": "execute_result"
    }
   ],
   "source": [
    "model.evaluate(npvectors[-200:],onehot[-200:],batch_size=30)"
   ]
  },
  {
   "cell_type": "markdown",
   "metadata": {},
   "source": [
    "# 5) Prediction:"
   ]
  },
  {
   "cell_type": "code",
   "execution_count": 45,
   "metadata": {},
   "outputs": [],
   "source": [
    "#from scipy.spatial.distance import cosine\n",
    "\n",
    "def predict_title(title):\n",
    "    title_vector = np.asarray([nlp(title).vector]) \n",
    "    temp = model.predict(title_vector)[0]\n",
    "    \n",
    "    for i, item in enumerate(temp):\n",
    "        print(i, \": \", item)\n",
    "    highest_idx = np.argmax(temp)\n",
    "    \n",
    "    if(temp[highest_idx] <.5):\n",
    "        print(\"\\nUNCERTAINTY FLAG: model is < 50% confident!\")"
   ]
  },
  {
   "cell_type": "code",
   "execution_count": 46,
   "metadata": {},
   "outputs": [
    {
     "name": "stdout",
     "output_type": "stream",
     "text": [
      "0 :  0.06803368\n",
      "1 :  0.0003404365\n",
      "2 :  7.228554e-07\n",
      "3 :  0.9316244\n",
      "4 :  7.908757e-07\n"
     ]
    }
   ],
   "source": [
    "predict_title(\"First pig to land on moon\") #\"Romeo hacker eats\""
   ]
  },
  {
   "cell_type": "code",
   "execution_count": null,
   "metadata": {},
   "outputs": [],
   "source": []
  }
 ],
 "metadata": {
  "kernelspec": {
   "display_name": "Python 3",
   "language": "python",
   "name": "python3"
  },
  "language_info": {
   "codemirror_mode": {
    "name": "ipython",
    "version": 3
   },
   "file_extension": ".py",
   "mimetype": "text/x-python",
   "name": "python",
   "nbconvert_exporter": "python",
   "pygments_lexer": "ipython3",
   "version": "3.6.4"
  }
 },
 "nbformat": 4,
 "nbformat_minor": 2
}
