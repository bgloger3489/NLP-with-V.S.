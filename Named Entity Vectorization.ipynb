{
 "cells": [
  {
   "cell_type": "markdown",
   "metadata": {},
   "source": [
    "# Named Entity Vectorization\n",
    "\n",
    "###### Motivation:\n",
    "The meanings of Named Entities are rarely equal to the sum of their parts:\n",
    "    <br/><br/>ex: \"Air Canada\" /= \"Air\" + \"Canada\"\n",
    "    <br/>Air Canada refers to an airline company, where the sum of its parts might refer to a certain quality of air\n",
    "\n",
    "<br/>Thus, the vectorization of a named entity should reflect this. \n",
    "\n",
    "###### Hypothesis:\n",
    "If treated as their own tokens Named Entities would be more accurately represented in the vector space."
   ]
  },
  {
   "cell_type": "code",
   "execution_count": 63,
   "metadata": {},
   "outputs": [
    {
     "name": "stdout",
     "output_type": "stream",
     "text": [
      "0                    Scores killed in Pakistan clashes\n",
      "1                     Japan resumes refuelling mission\n",
      "2                      US presses Egypt on Gaza border\n",
      "3         Jump-start economy: Give health care to all \n",
      "4      Council of Europe bashes EU&UN terror blacklist\n",
      "5    Hay presto! Farmer unveils the  illegal  mock-...\n",
      "6    Strikes, Protests and Gridlock at the Poland-U...\n",
      "7                       The U.N. Mismanagement Program\n",
      "8            Nicolas Sarkozy threatens to sue Ryanair \n",
      "9    US plans for missile shields in Polish town me...\n",
      "Name: title, dtype: object\n",
      "totale # of titles:  509236\n"
     ]
    }
   ],
   "source": [
    "import spacy\n",
    "import numpy\n",
    "import pandas as pd\n",
    "import os.path\n",
    "\n",
    "nlp = spacy.load(\"en_core_web_lg\")\n",
    "docs = nlp.pipe(dataframe.title.head(10))\n",
    "\n",
    "dataframe = pd.read_csv(os.path.join(os.getcwd(),\n",
    "                                     \"/Users/Ben/Desktop/Vital Strategies/reddit_worldnews_start_to_2016-11-22.csv\"))\n",
    "print(dataframe.title.head(10))\n",
    "print(\"totale # of titles: \", len(dataframe.title))"
   ]
  },
  {
   "cell_type": "code",
   "execution_count": 78,
   "metadata": {},
   "outputs": [],
   "source": [
    "def getsplitlines(docs): #includes Named Entities\n",
    "    lines = []\n",
    "    for i, doc in enumerate(docs):\n",
    "        lines.append([])\n",
    "        ents = doc.ents.__iter__()\n",
    "        current_ent = ents.__next__()\n",
    "        \n",
    "\n",
    "        j=0\n",
    "        while j < (len(doc)):\n",
    "            if doc[j] in current_ent:\n",
    "                lines[i].append(current_ent)\n",
    "                j += len(current_ent)\n",
    "                try:\n",
    "                    current_ent = ents.__next__()\n",
    "                except:\n",
    "                    current_ent = None\n",
    "            else:\n",
    "                lines[i].append(token)\n",
    "            j+=1\n",
    "            \n",
    "    return lines"
   ]
  },
  {
   "cell_type": "code",
   "execution_count": 75,
   "metadata": {},
   "outputs": [
    {
     "name": "stdout",
     "output_type": "stream",
     "text": [
      "2 3\n",
      "Air True\n",
      "Canada True\n",
      "flights False\n",
      "are False\n",
      "delayed False\n"
     ]
    }
   ],
   "source": [
    "from spacy.tokens import Span\n",
    "\n",
    "testdoc = nlp(\"Air Canada flights are delayed\")\n",
    "\n",
    "print(len(testdoc[0:2]),testdoc[3:4].start)\n",
    "\n",
    "for token in testdoc:\n",
    "    print(token, token in testdoc[0:2])"
   ]
  },
  {
   "cell_type": "code",
   "execution_count": 19,
   "metadata": {},
   "outputs": [
    {
     "name": "stdout",
     "output_type": "stream",
     "text": [
      "War\n",
      "Chad\n",
      "1,500 rebels\n",
      "the capital\n",
      "government forces\n",
      "-\n",
      "Chad\n",
      "1,500\n",
      "=====================\n",
      "Nero-like Brown\n",
      "King\n",
      "-\n",
      "Nero\n",
      "Brown confirms King\n",
      "=====================\n",
      "Tony Blair\n",
      "old allies\n",
      "bid\n",
      "EU job\n",
      "-\n",
      "Tony Blair\n",
      "EU\n",
      "=====================\n",
      "Children\n",
      "Kenya\n",
      "-\n",
      "Kenya\n",
      "=====================\n",
      " Royal Bank\n",
      "Scotland\n",
      "liability\n",
      "stolen £322,000 Escrow Monies\n",
      "-\n",
      "Royal Bank of Scotland\n",
      "322,000\n",
      "Escrow Monies\n",
      "=====================\n",
      "The drug laws\n",
      "t\n",
      "-\n",
      "=====================\n",
      "Gazprom\n",
      "PM Zubkov\n",
      "board\n",
      "-\n",
      "Gazprom\n",
      "PM\n",
      "Zubkov\n",
      "=====================\n",
      "Nicolas Sarkozy honeymoons\n",
      "steelworks\n",
      "-\n",
      "Nicolas Sarkozy\n",
      "=====================\n",
      "Babacan vows\n",
      "new wave\n",
      "EU reform\n",
      "-\n",
      "Babacan\n",
      "EU\n",
      "=====================\n",
      "Israeli airstrike\n",
      "Hamas base\n",
      "-\n",
      "Six\n",
      "Israeli\n",
      "Hamas\n",
      "=====================\n"
     ]
    }
   ],
   "source": [
    "for i, doc in enumerate(docs):\n",
    "    if i == 10:\n",
    "        break\n",
    "    for noun in doc.noun_chunks:\n",
    "        print(noun)\n",
    "    print(\"-\")\n",
    "    for ent in doc.ents:\n",
    "        print(ent)\n",
    "    print(\"=====================\")"
   ]
  },
  {
   "cell_type": "code",
   "execution_count": null,
   "metadata": {},
   "outputs": [],
   "source": []
  }
 ],
 "metadata": {
  "kernelspec": {
   "display_name": "Python 3",
   "language": "python",
   "name": "python3"
  },
  "language_info": {
   "codemirror_mode": {
    "name": "ipython",
    "version": 3
   },
   "file_extension": ".py",
   "mimetype": "text/x-python",
   "name": "python",
   "nbconvert_exporter": "python",
   "pygments_lexer": "ipython3",
   "version": "3.6.4"
  }
 },
 "nbformat": 4,
 "nbformat_minor": 2
}
